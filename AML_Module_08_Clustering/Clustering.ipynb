{
    "cells": [
        {
            "cell_type": "markdown",
            "metadata": {
                "collapsed": true,
                "nbgrader": {
                    "grade": false,
                    "locked": true,
                    "solution": false
                },
                "editable": false,
                "deletable": false
            },
            "source": [
                "# Clustering\n",
                "\n",
                "**Author: Jessica Cervi**\n",
                "\n",
                "**Expected time = 2.5 hours**\n",
                "\n",
                "**Total points = 60 points**\n",
                " \n",
                "\n",
                "## Assignment Overview\n",
                "\n",
                "In this assignment, we will work on clustering algorithms.\n",
                "\n",
                "In general, the steps of clustering algorithms are straightforward: \n",
                "\n",
                "- The sample points are assigned to centroids \n",
                "- The coordinate of the centroid gets updated\n",
                "\n",
                "These two main steps repeat until we get convergence in our algorithm. When using clustering, some of the difficult steps are:\n",
                "\n",
                "- How to select the number of centroids required?\n",
                "- How to initialize the selected centroids?\n",
                "\n",
                "Although these are important topics in clustering, in this assignment, we will focus on the main steps that define the clustering algorithm. In particular, you will be asked to write functions that compute k-means, soft k-means, and GMM clustering. Like all the other previous assignments, the pre-built versions in the sklearn of these algorithms will be demonstrated at the end of the lesson.\n",
                "\n",
                "This assignment is designed to build your familiarity and comfort in coding in Python. It will also help you review the key topics from each module. As you progress through the assignment, answers to the questions will get increasingly complex. You must adopt a data scientist's mindset when completing this assignment. Remember to run your code from each cell before submitting your assignment. Running your code beforehand will notify you of errors and giving you a chance to fix your errors before submitting it. You should view your Vocareum submission as if you are delivering a final project to your manager or client. \n",
                "\n",
                "***Vocareum Tips***\n",
                "- Do not add arguments or options to functions unless asked specifically. This will cause an error in Vocareum.\n",
                "- Do not use a library unless you are explicitly asked in the question. \n",
                "- You can download the Grading Report after submitting the assignment. It will include the feedback and hints on incorrect questions. \n",
                "\n",
                "\n",
                "\n",
                "\n",
                "### Learning Objectives\n",
                "- Determine the distance from data through cluster centers\n",
                "- Assign cluster values using soft\/hard clusters  \n",
                "- Assign cluster values using Gaussian distributions\n",
                "- Update cluster centers using hard\/soft\/gaussian mixture clustering \n",
                "- Implement Gaussian mixture models and k-means clustering using 'sklearn'\n",
                "\n",
                "\n",
                "## Index: \n",
                "\n",
                "#### Clustering\n",
                "\n",
                "- [Question 1](#q1)\n",
                "- [Question 2](#q2)\n",
                "- [Question 3](#q3)\n",
                "- [Question 4](#q4)\n",
                "- [Question 5](#q5)\n",
                "- [Question 6](#q6)\n"
            ]
        },
        {
            "cell_type": "markdown",
            "metadata": {
                "nbgrader": {
                    "grade": false,
                    "locked": true,
                    "solution": false
                },
                "editable": false,
                "deletable": false
            },
            "source": [
                "## Clustering\n",
                "\n",
                "### Importing the dataset and exploratory data analysis\n",
                "\n",
                "For this exercise, we will use derived data in two dimensions. Three clusters of data will be derived from three different distributions in four different instances.\n",
                "\n",
                "We start by examining the data as usual:\n",
                "- Before coding an algorithm, we will take a look at our data using Python's pandas. For visualizations, we will use matplotlib.\n",
                "\n",
                "To load the datasets, we will be using the pandas' 'pd.read_csv()' function.\n",
                "\n",
                "Note that, for this assignment, we have defined the 'path' to each dataset as a string to a variable that gets read by the 'read_csv()' function.\n",
                "\n",
                " "
            ]
        },
        {
            "cell_type": "code",
            "execution_count": null,
            "metadata": {
                "collapsed": true,
                "nbgrader": {
                    "grade": false,
                    "locked": true,
                    "solution": false
                },
                "scrolled": false,
                "editable": false,
                "deletable": false
            },
            "outputs": [],
            "source": [
                "from scipy.stats import multivariate_normal\n",
                "import scipy.stats as stats\n",
                "import matplotlib.pyplot as plt\n",
                "import numpy as np\n",
                "import pandas as pd\n",
                "%matplotlib inline\n",
                "\n",
                "# File Paths\n",
                "mv_path = \".\/data\/mv.csv\"\n",
                "unif_path = \".\/data\/unif.csv\"\n",
                "mv2_path = \".\/data\/mv2.csv\"\n",
                "mv3_path = \".\/data\/mv3.csv\"\n",
                "\n",
                "# Read in Data\n",
                "mv_df = pd.read_csv(mv_path, index_col = 0)\n",
                "unif_df = pd.read_csv(unif_path, index_col = 0)\n",
                "mv2_df = pd.read_csv(mv2_path, index_col = 0)\n",
                "mv3_df = pd.read_csv(mv3_path, index_col = 0)"
            ]
        },
        {
            "cell_type": "markdown",
            "metadata": {},
            "source": [
                "Next, we use 'matplotlib' to visualize the four different sets of distributions. "
            ]
        },
        {
            "cell_type": "code",
            "execution_count": null,
            "metadata": {},
            "outputs": [],
            "source": [
                "# Create Figure\n",
                "fig, (axs) = plt.subplots(2,2, figsize = (6,6))\n",
                "\n",
                "# Plot each group in each dataset as a unique color\n",
                "for ax, df in zip(axs.flatten(), [mv_df, unif_df, mv2_df, mv3_df]):\n",
                "    for cat, col in zip(df['cat'].unique(), [\"#1b9e77\", \"#d95f02\", \"#7570b3\"]):\n",
                "        ax.scatter(df[df.cat == cat].x, df[df.cat == cat].y, c = col, label = cat, alpha = .15)\n",
                "    ax.legend()"
            ]
        },
        {
            "cell_type": "markdown",
            "metadata": {
                "nbgrader": {
                    "grade": false,
                    "locked": true,
                    "solution": false
                },
                "editable": false,
                "deletable": false
            },
            "source": [
                "Before we begin with this assignment, we will go through some basic theory of clustering algorithms.\n",
                "\n",
                "A centroid is defined by a pair of coordinates $(x,y)$. \n",
                "\n",
                "In the case of Gaussian mixture models (GMM), the center of each cluster will be initialized using the $2\\times2$ covariance matrix  \n",
                "\n",
                " $$\\Sigma = \\begin{bmatrix}\n",
                "    1 & 0\\\\\n",
                "    0&1\n",
                "\\end{bmatrix},$$ \n",
                "\n",
                "and parameter $\\pi = \\frac1k$, with $k$ being the number of clusters.\n",
                "\n",
                "\n",
                "We will initialize the clusters by using the K-means++ type algorithm.\n",
                "\n",
                "The K-means++ algorithm chooses one point from the data as the first cluster center. The other cluster centers are chosen from the remaining points. The probability of picking any other point is proportional to the square of the euclidean distance of that point to the nearest cluster center. \n",
                "\n",
                "The functions below initialize the centers using K-means."
            ]
        },
        {
            "cell_type": "code",
            "execution_count": null,
            "metadata": {
                "collapsed": true,
                "nbgrader": {
                    "grade": false,
                    "locked": true,
                    "solution": false
                },
                "editable": false,
                "deletable": false
            },
            "outputs": [],
            "source": [
                "# Implement K-means ++ to initialize centers\n",
                "\n",
                "def pick_cluster_centers(points, num_clusters = 3):\n",
                "    # Create List to store clusters\n",
                "    clusters = []\n",
                "    \n",
                "    # Save list of cluster indicies\n",
                "    arr_idx = np.arange(len(points))\n",
                "    \n",
                "    # Choose first cluster; append to list\n",
                "    clusters.append( points[np.random.choice(arr_idx)])\n",
                "    \n",
                "    # Define a function to calculate the squared distance\n",
                "    def dist_sq(x): return np.linalg.norm(x)**2\n",
                "    \n",
                "    c_dist = None\n",
                "\n",
                "    # Add Clusters until reaching \"num_clusters\"\n",
                "    while len(clusters) < num_clusters:\n",
                "        \n",
                "        # Calculate the distance between latest cluster and rest of points\n",
                "        new_dist = np.apply_along_axis(np.linalg.norm, 1, points - clusters[-1]).reshape(-1,1)\n",
                "        \n",
                "        # Add to distance array - First check to see if the distance matrix exists\n",
                "        if type(c_dist) == type(None):\n",
                "            c_dist = new_dist\n",
                "            \n",
                "        else:\n",
                "            c_dist = np.concatenate([c_dist, new_dist], axis = 1)\n",
                "        \n",
                "        # Calculate the probability by finding shortest distance, then normalizing\n",
                "        c_prob = np.apply_along_axis(np.min, 1, c_dist)\n",
                "        c_prob = c_prob \/ c_prob.sum()\n",
                "\n",
                "        # Draw a new cluster according to the probability\n",
                "        clusters.append(points[np.random.choice(arr_idx, p = c_prob)])\n",
                "            \n",
                "    return np.array(clusters)\n",
                "\n",
                "# Function to add pi and Sigma for GMM clusters\n",
                "def build_GMM_clusters(clusters):\n",
                "    return [(c, 1\/len(clusters), np.array([[1,0],[0,1]])) for c in clusters]"
            ]
        },
        {
            "cell_type": "markdown",
            "metadata": {
                "nbgrader": {
                    "grade": false,
                    "locked": true,
                    "solution": false
                },
                "editable": false,
                "deletable": false
            },
            "source": [
                "### Method of Describing Cluster Assignments\n",
                "\n",
                "In hard clustering, i.e., k-means, each point is assigned exclusively to one cluster. In soft clustering, i.e., soft k-means and GMM, points may be portioned out between clusters.  \n",
                "\n",
                "For this reason, throughout this assignment, the allocation of the points to the clusters will be stored in a two-dimensional 'NumPy' array. \n",
                "\n",
                "For example, assume that we are working with three clusters and one point.\n",
                "In k-means clustering, if a single point was assigned to cluster '0', its cluster assignment would be '[1,0,0]'. On the other hand, if we are working using soft k-means clustering and the point is evenly split between the three clusters, then its cluster assignment would be '[.33,.33,.33]'.  \n",
                "\n",
                "In the case of three points and two clusters while using k-means, the cluster-matrix would be: 'np.array([[1,0],[1,0],[0,1]])'. In this case, the first two points are assigned to cluster '0' and the third point is assigned to cluster '1'.  \n",
                "\n",
                "**Note: the 'np.apply_along_axis' attribute will be useful in the following exercises.**\n",
                "\n",
                "### Building Cluster Assignment Algorithms"
            ]
        },
        {
            "cell_type": "markdown",
            "metadata": {
                "nbgrader": {
                    "grade": false,
                    "locked": true,
                    "solution": false
                },
                "editable": false,
                "deletable": false
            },
            "source": [
                "[Back to top](#Index:) \n",
                "<a id='q1'><\/a>\n",
                "\n",
                "### Question 1:\n",
                "\n",
                "*10 points*\n",
                "\n",
                "For each point $i$, the cluster indicator $c_i$ for the cluster $k$ can be computed according to the equation\n",
                "\n",
                "$$c_i =\\text{argmin}_k\\ ||x_i - \\mu_k||^2.$$\n",
                "\n",
                "Define a function called 'assign_clusters_k_means' that accepts the following \n",
                "arguments:\n",
                "\n",
                "- A two-dimensional `NumPy` array with the coordinates of each point.\n",
                "- A two-dimensional `NumPy` array with the coordinates of the centroid of each cluster.\n",
                "\n",
                "Your function should determine which cluster centroid is closest to each point and return a two-dimensional 'NumPy' array, where each row indicates to which cluster a point is closest to. \n",
                "\n",
                "For example, the row [0,1,0,...,0] indicates that the point is assigned to the second cluster, and the row [0,0,...,1] indicates the point is assigned to the last cluster."
            ]
        },
        {
            "cell_type": "code",
            "execution_count": null,
            "metadata": {
                "collapsed": true
            },
            "outputs": [],
            "source": [
                "### GRADED\n",
                "\n",
                "### YOUR SOLUTION HERE\n",
                "def assign_clusters_k_means(points, clusters):\n",
                "    \"\"\"\n",
                "    Determine the nearest cluster to each point, returning an array indicating the closest cluster\n",
                "    \n",
                "    Positional Arguments:\n",
                "        points: a 2-d NumPy array where each row is a different point, and each\n",
                "            column indicates the location of that point in that dimension\n",
                "        clusters: a 2-d NumPy array where each row is a different centroid cluster;\n",
                "            each column indicates the location of that centroid in that dimension\n",
                "    \n",
                "    Example:\n",
                "        points = np.array([[0,1], [2,2], [5,4], [3,6], [4,2]])\n",
                "        clusters = np.array([[0,1],[5,4]])\n",
                "        cluster_weights = assign_clusters_k_means(points, clusters)\n",
                "        \n",
                "        print(cluster_weights) #--> np.array([[1, 0],\n",
                "                                              [1, 0],\n",
                "                                              [0, 1],\n",
                "                                              [0, 1],\n",
                "                                              [0, 1]])\n",
                "    \"\"\"\n",
                "    # NB: 'cluster_weights' is used as a common term between functions\n",
                "    # the name makes more sense in soft-clustering contexts\n",
                "\n",
                "###\n",
                "### YOUR CODE HERE\n",
                "###\n"
            ]
        },
        {
            "cell_type": "code",
            "execution_count": null,
            "metadata": {
                "nbgrader": {
                    "grade": true,
                    "grade_id": "Question 01",
                    "locked": true,
                    "points": "10",
                    "solution": false
                },
                "editable": false,
                "deletable": false
            },
            "outputs": [],
            "source": [
                "###\n",
                "### AUTOGRADER TEST - DO NOT REMOVE\n",
                "###\n"
            ]
        },
        {
            "cell_type": "markdown",
            "metadata": {
                "nbgrader": {
                    "grade": false,
                    "locked": true,
                    "solution": false
                },
                "editable": false,
                "deletable": false
            },
            "source": [
                "[Back to top](#Index:) \n",
                "<a id='q2'><\/a>\n",
                "\n",
                "### Question 2:\n",
                "\n",
                "*10 points*\n",
                "\n",
                "\n",
                "The proportion $\\phi_i(k)$ that a point $i$ belongs to a cluster $k$ is defined by the function for weighted k-means: \n",
                "\n",
                "$$\\phi_i(k) = \\frac{\\exp\\{-\\frac{1}{\\beta}||x_i-\\mu_k||^2\\}}{\\sum_j \\exp\\{-\\frac1\\beta||x_i-\\mu_j||^2\\}}.$$ \n",
                "\n",
                "Define a  function called 'assign_clusters_soft_k_means' that accepts the following \n",
                "arguments:\n",
                "\n",
                "- A two-dimensional 'NumPy' array with the coordinates of each point.\n",
                "- A two-dimensional 'NumPy' array with the coordinates of the centroid of each cluster.\n",
                "- A number 'beta' that defines and helps in identifying the closest distance between the points and clusters.\n",
                "\n",
                "Your function should return a two-dimensional 'NumPy' array with the cluster weights. Each row in the array should indicate the proportion of how each point 'belongs' to all the clusters. \n",
                "\n",
                "For example, if a point 'belongs' evenly to two clusters, the corresponding row in the array should be [.5,.5].  \n",
                "\n",
                " \n"
            ]
        },
        {
            "cell_type": "code",
            "execution_count": null,
            "metadata": {
                "collapsed": true
            },
            "outputs": [],
            "source": [
                "### GRADED\n",
                "\n",
                "### YOUR SOLUTION HERE\n",
                "def assign_clusters_soft_k_means(points, clusters, beta):\n",
                "    \n",
                "    \"\"\"\n",
                "    Return an array indicating the proportion of the point\n",
                "        belonging to each cluster\n",
                "    \n",
                "    Positional Arguments:\n",
                "        points: a 2-d NumPy array where each row is a different point, and each\n",
                "            column indicates the location of that point in that dimension\n",
                "        clusters: a 2-d NumPy array where each row is a different centroid cluster;\n",
                "            each column indicates the location of that centroid in that dimension\n",
                "        beta: a number indicating what distance can be considered 'close'\n",
                "        \n",
                "    Example:\n",
                "        points = np.array([[0,1], [2,2], [5,4], [3,6], [4,2]])\n",
                "        clusters = np.array([[0,1],[5,4]])\n",
                "        beta = 1\n",
                "        cluster_weights = assign_clusters_soft_k_means(points, clusters, beta)\n",
                "        \n",
                "        print(cluster_weights) #--> np.array([[0.99707331, 0.00292669],\n",
                "                                              [0.79729666, 0.20270334],\n",
                "                                              [0.00292669, 0.99707331],\n",
                "                                              [0.04731194, 0.95268806],\n",
                "                                              [0.1315826 , 0.8684174 ]])\n",
                "    \"\"\"\n",
                "\n",
                "###\n",
                "### YOUR CODE HERE\n",
                "###\n"
            ]
        },
        {
            "cell_type": "code",
            "execution_count": null,
            "metadata": {
                "nbgrader": {
                    "grade": true,
                    "grade_id": "Question 02",
                    "locked": true,
                    "points": "10",
                    "solution": false
                },
                "editable": false,
                "deletable": false
            },
            "outputs": [],
            "source": [
                "###\n",
                "### AUTOGRADER TEST - DO NOT REMOVE\n",
                "###\n"
            ]
        },
        {
            "cell_type": "markdown",
            "metadata": {
                "nbgrader": {
                    "grade": false,
                    "locked": true,
                    "solution": false
                },
                "editable": false,
                "deletable": false
            },
            "source": [
                "[Back to top](#Index:) \n",
                "<a id='q3'><\/a>\n",
                "\n",
                "### Question 3:\n",
                "\n",
                "*10 points*\n",
                "\n",
                "For this question, the proportion $\\phi_i(k)$ that a point $i$ belongs to cluster $k$ is defined by the $\\phi$ function for GMM:  \n",
                "\n",
                "$$\\phi_i(k) = \\frac{\\pi_k N(x_i|\\mu_k,\\Sigma_k)}{\\sum_j \\pi_j N(x_i|\\mu_j,\\Sigma_k)},$$ \n",
                "\n",
                "where $N(x_i|\\mu_k,\\Sigma_k)$ can be computed by using 'stats.multivariate_normal(mu,Sigma).pdf(x)'. For example, if $i = 0$ and $k = 0$, then  \n",
                "\n",
                "    c = clusters[0]\n",
                "    p = points[0]\n",
                "    stats.multivariate_normal(c[0],c[2]).pdf(x)\n",
                "\n",
                "\n",
                "Define a  function called 'assign_clusters_GMM' that accepts the following \n",
                "arguments:\n",
                "\n",
                "- A two-dimensional 'NumPy' array with the coordinates of each point.\n",
                "- A list of tuples. The $k^{th}$ tuple in the list should contain the parameters $(\\mu_k, \\pi_k, \\Sigma_k)$ defining the cluster k. In particular, $\\mu$ is a one-dimensional 'NumPy' array, $\\pi$ is number, and $\\Sigma$ is two-dimensional 'NumPy' array.\n",
                "\n",
                "Your function should return a two-dimensional 'NumPy' array with the cluster weights. Each row in the array should indicate the proportion of how each point 'belongs' to all the clusters. For example, if a point 'belongs' evenly to two clusters, the corresponding row in the array should be [.5,.5].    \n",
                "\n",
                "\n"
            ]
        },
        {
            "cell_type": "code",
            "execution_count": null,
            "metadata": {
                "collapsed": true
            },
            "outputs": [],
            "source": [
                "### GRADED\n",
                "### Follow directions above\n",
                "\n",
                "### YOUR SOLUTION HERE\n",
                "def assign_clusters_GMM(points, clusters):\n",
                "    \"\"\"    \n",
                "    Return an array indicating the porportion of the point\n",
                "        belonging to each cluster\n",
                "    \n",
                "    Positional Arguments:\n",
                "        points: a 2-d NumPy array where each row is a different point, and each\n",
                "            column indicates the location of that point in that dimension\n",
                "        clusters: a list of tuples. Each tuple describes a cluster.\n",
                "            The first element of the tuple is a 1-d NumPy array indicating the\n",
                "                location of that centroid in each dimension\n",
                "            The second element of the tuple is a number, indicating the weight (pi)\n",
                "                of that cluster\n",
                "            The thrid element is a 2-d NumPy array corresponding to that cluster's\n",
                "                covariance matrix.\n",
                "        \n",
                "    Example:\n",
                "        points = np.array([[0,1], [2,2], [5,4], [3,6], [4,2]])\n",
                "        clusters = [(np.array([0,1]), 1, np.array([[1,0],[0,1]])),\n",
                "                    (np.array([5,4]), 1, np.array([[1,0],[0,1]]))]\n",
                "        \n",
                "        cluster_weights = assign_clusters_GMM(points, clusters)\n",
                "        \n",
                "        print(cluster_weights) #--> np.array([[9.99999959e-01 4.13993755e-08]\n",
                "                                              [9.82013790e-01 1.79862100e-02]\n",
                "                                              [4.13993755e-08 9.99999959e-01]\n",
                "                                              [2.26032430e-06 9.99997740e-01]\n",
                "                                              [2.47262316e-03 9.97527377e-01]])\n",
                "    \"\"\"\n",
                "\n",
                "###\n",
                "### YOUR CODE HERE\n",
                "###\n"
            ]
        },
        {
            "cell_type": "code",
            "execution_count": null,
            "metadata": {
                "nbgrader": {
                    "grade": true,
                    "grade_id": "Question 03",
                    "locked": true,
                    "points": "10",
                    "solution": false
                },
                "editable": false,
                "deletable": false
            },
            "outputs": [],
            "source": [
                "###\n",
                "### AUTOGRADER TEST - DO NOT REMOVE\n",
                "###\n"
            ]
        },
        {
            "cell_type": "markdown",
            "metadata": {
                "nbgrader": {
                    "grade": false,
                    "locked": true,
                    "solution": false
                },
                "editable": false,
                "deletable": false
            },
            "source": [
                "### Building Cluster Update Functions\n",
                "\n",
                "[Back to top](#Index:) \n",
                "<a id='q4'><\/a>\n",
                "\n",
                "### Question 4:\n",
                "\n",
                "*10 points*\n",
                "\n",
                "For this question, the centroid $\\mu_k$ for the cluster $k$ should be updated with the formula:  \n",
                "\n",
                "$$\\mu_k = \\frac{\\sum_ix_i\\mathbb{1}\\{c_i = k\\}}{\\sum_i\\mathbb{1}\\{c_i = k\\}},$$\n",
                "\n",
                "where $c_i$ indicates to which cluster, a point $i$ is assigned. Remember that, generally, the new centroids are the center (mean) of all points associated with the cluster.\n",
                "\n",
                "Define a  function called 'update_clusters_k_means' that accepts the following \n",
                "arguments:\n",
                "\n",
                "- A two-dimensional 'NumPy' array with the coordinates of each point.\n",
                "- A two-dimensional 'NumPy' array indicating the cluster assignment to each point. We will define this array to be 'cluster_weights'. Each row of 'cluster_weights' should contain a single 1 and 0's everywhere else. For example, if the point $i$ is assigned to cluster '0', then the row corresponding to the point $i$ in 'cluster_weights' should be [1,0,0,...,0].  \n",
                "\n",
                "Your function should return a two-dimensional 'NumPy' array giving the new locations of the centroid for each cluster. "
            ]
        },
        {
            "cell_type": "code",
            "execution_count": null,
            "metadata": {
                "collapsed": true
            },
            "outputs": [],
            "source": [
                "### GRADED\n",
                "### Follow directions above\n",
                "\n",
                "### YOUR SOLUTION HERE\n",
                "def update_clusters_k_means(points, cluster_weights):\n",
                "    \n",
                "    \"\"\"\n",
                "    Update the cluster centroids via the k-means algorithm.\n",
                "    \n",
                "    Positional Arguments -- \n",
                "        points: a 2-d NumPy array where each row is a different point, and each\n",
                "            column indicates the location of that point in that dimension\n",
                "        cluster_weights: a 2-d NumPy array where each row corresponds to each row in 'points'\n",
                "            and the columns indicate which cluster the point 'belongs' to: '1' in the kth\n",
                "            column indicates belonging to the kth cluster\n",
                "            \n",
                "    Example:\n",
                "    \n",
                "        points = np.array([[0,1], [2,2], [5,4], [3,6], [4,2]])\n",
                "        cluster_weights = np.array([[1, 0],[1, 0],[0, 1],[0, 1],[0, 1]])\n",
                "        \n",
                "        new_cents = update_clusters_k_means(points, cluster_weights)\n",
                "        \n",
                "        print(new_cents) #--> np.array([[1. , 1.5],\n",
                "                                        [4. , 4. ]])\n",
                "    \n",
                "    \"\"\"\n",
                "\n",
                "###\n",
                "### YOUR CODE HERE\n",
                "###\n"
            ]
        },
        {
            "cell_type": "code",
            "execution_count": null,
            "metadata": {
                "nbgrader": {
                    "grade": true,
                    "grade_id": "Question 04",
                    "locked": true,
                    "points": "10",
                    "solution": false
                },
                "editable": false,
                "deletable": false
            },
            "outputs": [],
            "source": [
                "###\n",
                "### AUTOGRADER TEST - DO NOT REMOVE\n",
                "###\n"
            ]
        },
        {
            "cell_type": "markdown",
            "metadata": {
                "nbgrader": {
                    "grade": false,
                    "locked": true,
                    "solution": false
                },
                "editable": false,
                "deletable": false
            },
            "source": [
                "[Back to top](#Index:) \n",
                "<a id='q5'><\/a>\n",
                "\n",
                "### Question 5:\n",
                "\n",
                "*10 points*\n",
                "\n",
                "For this question, the centroid $\\mu_k$ for the cluster $k$ should be updated using the formula:  \n",
                "\n",
                "$$\\mu_k = \\frac{\\sum_ix_i\\phi_i(k)}{\\sum_i\\phi_i(k)}.$$  \n",
                "\n",
                "Define a  function called 'update_clusters_soft_k_means' that accepts the following \n",
                "arguments:\n",
                "\n",
                "- A two-dimensional 'NumPy' array with the coordinates of each point.\n",
                "- A two-dimensional 'NumPy' array indicating the cluster assignment to each point. We will define this array to be 'cluster_weights'. Each row of 'cluster_weights' should contain the numeric weights $\\phi_i(k)$ corresponding to the point $i$ and the cluster $k$. The entries of each row should add up to one. For example, if we have two clusters and the point $i$ is evenly assigned to both of them, then the row corresponding to the point $i$ in 'cluster_weights' should be [.5,.5]. Therefore, in this case $\\phi_i(0) = .5 \\text{ and }\\phi_i(1) = .5$.\n",
                "\n",
                "Your function should return a two-dimensional 'NumPy' array giving the updated locations of the centroid for each cluster. \n"
            ]
        },
        {
            "cell_type": "code",
            "execution_count": null,
            "metadata": {
                "collapsed": true
            },
            "outputs": [],
            "source": [
                "### GRADED\n",
                "### Follow directions above\n",
                "\n",
                "### YOUR SOLUTION HERE\n",
                "def update_clusters_soft_k_means(points, cluster_weights):\n",
                "    \n",
                "    \"\"\"\n",
                "    Update the cluster centroids according to the soft k-means algorithm\n",
                "    \n",
                "    Positional Arguments --\n",
                "        points: a 2-d NumPy array where each row is a different point, and each\n",
                "            column indicates the location of that point in that dimension\n",
                "        cluster_weights: a 2-d NumPy array where each row corresponds to each row in \n",
                "            'points'. The values in that row corresponding to the amount that point is associated\n",
                "            with each cluster.\n",
                "            \n",
                "    Example --\n",
                "        points = np.array([[0,1], [2,2], [5,4], [3,6], [4,2]])\n",
                "\n",
                "        cluster_weights= np.array([[0.99707331, 0.00292669],\n",
                "                                   [0.79729666, 0.20270334],\n",
                "                                   [0.00292669, 0.99707331],\n",
                "                                   [0.04731194, 0.95268806],\n",
                "                                   [0.1315826 , 0.8684174 ]])\n",
                "        centroids = update_clusters_soft_k_means(points, cluster_weights)\n",
                "        \n",
                "        print(centroids) #--> np. array([[1.15246591, 1.59418291],\n",
                "                                         [3.87673553, 3.91876291]])\n",
                "    \"\"\"\n",
                "\n",
                "###\n",
                "### YOUR CODE HERE\n",
                "###\n"
            ]
        },
        {
            "cell_type": "code",
            "execution_count": null,
            "metadata": {
                "nbgrader": {
                    "grade": true,
                    "grade_id": "Question 05",
                    "locked": true,
                    "points": "10",
                    "solution": false
                },
                "editable": false,
                "deletable": false
            },
            "outputs": [],
            "source": [
                "###\n",
                "### AUTOGRADER TEST - DO NOT REMOVE\n",
                "###\n"
            ]
        },
        {
            "cell_type": "markdown",
            "metadata": {
                "nbgrader": {
                    "grade": false,
                    "locked": true,
                    "solution": false
                },
                "editable": false,
                "deletable": false
            },
            "source": [
                "[Back to top](#Index:) \n",
                "<a id='q6'><\/a>\n",
                "\n",
                "### Question 6:\n",
                "\n",
                "*10 points*\n",
                "\n",
                "Define a  function called 'update_clusters_GMM' that accepts the following \n",
                "arguments:\n",
                "\n",
                "- A two-dimensional 'NumPy' array with the coordinates of each point.\n",
                "- A two-dimensional 'NumPy' array indicating the cluster assignment to each point. We will define this array to be 'cluster_weights'. Each row of 'cluster_weights' should contain the numeric weights $\\phi_i(k)$ corresponding to the point $i$ and the cluster $k$. The entries of each row should add up to one. For example, if we have two clusters and the point $i$ is evenly assigned to both of them, then the row corresponding to the point $i$ in 'cluster_weights' should be [.5,.5]. \n",
                "\n",
                "Your function should return a list of tuples, giving the updated parameters each cluster. In particulat the tuple corresponding to the cluster $k$ will have the format $\\mu_k$, $\\pi_k$, $\\Sigma_k$ where\n",
                "\n",
                "- $\\mu_k$ is a 'NumPy' array with length $d$.  \n",
                "- $\\pi_k$ is a float.  \n",
                "- $\\Sigma_k$ is a 'NumPy' array with dimensions $d\\times d$  \n",
                "\n",
                "For this question, the parameters are updated according to the following formulas:\n",
                "\n",
                "$$\\mu_k = \\frac1{n_k}\\sum\\limits_{i=1}^n \\phi_i(k)x_i,\\quad  \\text{with}\\quad  n_k=\\sum\\limits_{i=1}^n\\phi_i(k),$$\n",
                "\n",
                "$$\\pi_k = \\frac{n_k}{n},\\quad \\text{with} \\quad n_k=\\sum\\limits_{i=1}^n\\phi_i(k),$$\n",
                "\n",
                "$$\\Sigma_k = \\frac1{n_k}\\sum\\limits_{i=1}^n\\phi_i(k)(x_i-\\mu_k)(x_i-\\mu_k)^T.$$\n",
                "\n"
            ]
        },
        {
            "cell_type": "code",
            "execution_count": null,
            "metadata": {
                "collapsed": true
            },
            "outputs": [],
            "source": [
                "### GRADED\n",
                "### Follow directions above\n",
                "\n",
                "### YOUR SOLUTION HERE\n",
                "def update_clusters_GMM(points, cluster_weights):\n",
                "    \n",
                "    \"\"\"\n",
                "    Update cluster centroids (mu, pi, and Sigma) according to GMM formulas\n",
                "    \n",
                "    Positional Arguments --\n",
                "        points: a 2-d NumPy array where each row is a different point, and each\n",
                "            column indicates the location of that point in that dimension\n",
                "        cluster_weights: a 2-d NumPy array where each row corresponds to each row in \n",
                "            'points'. the values in that row correspond to the amount that point is associated\n",
                "            with each cluster.\n",
                "    Example --\n",
                "        points = np.array([[0,1], [2,2], [5,4], [3,6], [4,2]])\n",
                "        cluster_weights = np.array([[9.99999959e-01, 4.13993755e-08],\n",
                "                                    [9.82013790e-01, 1.79862100e-02],\n",
                "                                    [4.13993755e-08, 9.99999959e-01],\n",
                "                                    [2.26032430e-06, 9.99997740e-01],\n",
                "                                    [2.47262316e-03, 9.97527377e-01]])\n",
                "\n",
                "        new_clusters = update_clusters_GMM(points, cluster_weights)\n",
                "        \n",
                "        print(new_clusters)\n",
                "            #-->[(array([0.99467691, 1.49609648]), #----> mu, centroid 1\n",
                "                0.3968977347767351, #-------------------> pi, centroid 1\n",
                "                array([[1.00994319, 0.50123508],\n",
                "                       [0.50123508, 0.25000767]])), #---> Sigma, centroid 1\n",
                "                \n",
                "                (array([3.98807155, 3.98970927]), #----> mu, centroid 2\n",
                "                0.603102265479875, #-------------------> pi, centroid 2\n",
                "                array([[ 0.68695286, -0.63950027], #---> Sigma centroid 2\n",
                "                       [-0.63950027,  2.67341935]]))]\n",
                "        \n",
                "    \"\"\"\n",
                "\n",
                "###\n",
                "### YOUR CODE HERE\n",
                "###\n"
            ]
        },
        {
            "cell_type": "code",
            "execution_count": null,
            "metadata": {
                "nbgrader": {
                    "grade": true,
                    "grade_id": "Question 06",
                    "locked": true,
                    "points": "10",
                    "solution": false
                },
                "scrolled": true,
                "editable": false,
                "deletable": false
            },
            "outputs": [],
            "source": [
                "###\n",
                "### AUTOGRADER TEST - DO NOT REMOVE\n",
                "###\n"
            ]
        },
        {
            "cell_type": "markdown",
            "metadata": {
                "nbgrader": {
                    "grade": false,
                    "locked": true,
                    "solution": false
                },
                "editable": false,
                "deletable": false
            },
            "source": [
                "### Clustering in sklearn\n",
                "\n",
                "Having defined the functions to calculate the cluster assignments and update the centroids, we can now test the clustering functionality on our derived data.  \n",
                "\n",
                "In the cells below, we define some function to perform the following operations:  \n",
                "\n",
                "- Create meta-function which combines the 'assign' and 'update' functions into the coherent clustering algorithm with stopping thresholds\n",
                "- Create k-means, GMM and soft k-means functions\n",
                "- Create a plotting function to compare 'sklearn' and the custom k-means algorithms  \n",
                "    - The assignment of initial clusters will be determined by the 'pick_cluster_centers' function defined above, with centers passed explicitly to the custom algorithm and the 'sklearn' algorithm. \n",
                "\n",
                "NB: Soft k-means is not implemented in 'sklearn', and the custom GMM function will take too much processing time for Vocareum."
            ]
        },
        {
            "cell_type": "code",
            "execution_count": null,
            "metadata": {
                "collapsed": true,
                "nbgrader": {
                    "grade": false,
                    "locked": true,
                    "solution": false
                },
                "editable": false,
                "deletable": false
            },
            "outputs": [],
            "source": [
                "# Create a function that will create the clustering functions\n",
                "def create_cluster_func(assign_func, update_func, threshold_func, assign_args = {}):\n",
                "    \n",
                "    def cluster(points, centroids, max_iter = 100, stop_threshold = .001):\n",
                "        for i in range(max_iter):\n",
                "            old_centroids = centroids\n",
                "            \n",
                "            cluster_weights = assign_func(points, centroids, **assign_args)\n",
                "            centroids = update_func(points, cluster_weights)\n",
                "            \n",
                "            if threshold_func(centroids, old_centroids, stop_threshold):\n",
                "                break\n",
                "        \n",
                "        return centroids\n",
                "    return cluster\n",
                "\n",
                "# Create functions that test for convergence\n",
                "def basic_threshold_test(centroids, old_centroids, stop_threshold):\n",
                "    \n",
                "    for n, o in zip(centroids, old_centroids):\n",
                "        #print(n,o)\n",
                "        if np.linalg.norm(n-o) > stop_threshold:\n",
                "            return False\n",
                "    return True\n",
                "\n",
                "def GMM_threshold_test(centroids, old_centroids, stop_threshold):\n",
                "    for np, op in zip(centroids, old_centroids):\n",
                "        if not basic_threshold_test(np,op,stop_threshold):\n",
                "            return False\n",
                "    return True"
            ]
        },
        {
            "cell_type": "code",
            "execution_count": null,
            "metadata": {
                "collapsed": true,
                "nbgrader": {
                    "grade": false,
                    "locked": true,
                    "solution": false
                },
                "editable": false,
                "deletable": false
            },
            "outputs": [],
            "source": [
                "### Creating the actual functions for clustering\n",
                "cluster_k_means = create_cluster_func(assign_clusters_k_means,\n",
                "                                      update_clusters_k_means,\n",
                "                                      basic_threshold_test)\n",
                "\n",
                "# Below provided is for experimentation only. \n",
                "\n",
                "cluster_GMM = create_cluster_func(assign_clusters_GMM,\n",
                "                                  update_clusters_GMM,\n",
                "                                  GMM_threshold_test)\n",
                "\n",
                "\n",
                "cluster_soft_k_means = create_cluster_func(assign_clusters_soft_k_means,\n",
                "                                           update_clusters_soft_k_means,\n",
                "                                           basic_threshold_test,\n",
                "                                           {'beta':.3}) # This is where the \"beta\" parameter may be changed"
            ]
        },
        {
            "cell_type": "code",
            "execution_count": null,
            "metadata": {
                "collapsed": true,
                "nbgrader": {
                    "grade": false,
                    "locked": true,
                    "solution": false
                },
                "editable": false,
                "deletable": false
            },
            "outputs": [],
            "source": [
                "# Visualization of a function for k-means\n",
                "from sklearn.cluster import  KMeans\n",
                "\n",
                "\n",
                "def plot_k_means(clusters = 3):\n",
                "    # Create figure\n",
                "    fig, (axs) = plt.subplots(2,2, figsize = (6,6))\n",
                "    \n",
                "    # Go thorugh all data sets \n",
                "    for ax, df in zip(axs.flatten(), [mv_df, unif_df, mv2_df, mv3_df]):\n",
                "        \n",
                "        # Pull out point data\n",
                "        points = df.iloc[:,:2].values\n",
                "        \n",
                "        # Pick random initial centers\n",
                "        init_cents = pick_cluster_centers(points, clusters)\n",
                "        \n",
                "        # Calculate the centers from custom function\n",
                "        cents = cluster_k_means(points ,init_cents)\n",
                "        \n",
                "        # Calculate the centers from sklearn\n",
                "        km = KMeans(n_clusters= clusters, init = init_cents, n_init=1).fit(points)\n",
                "        cent_sk = km.cluster_centers_\n",
                "        \n",
                "        # Plot each distribution in a different color\n",
                "        for cat, col in zip(df['cat'].unique(), [\"#1b9e77\", \"#d95f02\", \"#7570b3\"]):\n",
                "            ax.scatter(df[df.cat == cat].x, df[df.cat == cat].y, label = None, c = col, alpha = .15)\n",
                "            \n",
                "        # Plot the Calculated centers\n",
                "        ax.scatter(cents[:,0], cents[:,1], c = 'k', marker = 'x', label = 'Custom', s = 70)\n",
                "         # Plot the Calculated centers with sklearn\n",
                "        ax.scatter(cent_sk[:,0], cent_sk[:,1], c = 'r', marker = '+', label = 'sklearn', s = 70)\n",
                "        \n",
                "        # Add legend\n",
                "        ax.legend()"
            ]
        },
        {
            "cell_type": "markdown",
            "metadata": {},
            "source": [
                "**NOTE: for faster grading, comment out the code cell below**"
            ]
        },
        {
            "cell_type": "code",
            "execution_count": null,
            "metadata": {
                "scrolled": false
            },
            "outputs": [],
            "source": [
                "%%time\n",
                "plot_k_means(3)"
            ]
        },
        {
            "cell_type": "markdown",
            "metadata": {
                "nbgrader": {
                    "grade": false,
                    "locked": true,
                    "solution": false
                },
                "editable": false,
                "deletable": false
            },
            "source": [
                "### GMM \/ k-means in 'sklearn'\n",
                "\n",
                "Clustering algorithms use the common 'fit' and 'predict' syntax of sklearn.  \n",
                "\n",
                "While the custom algorithms focuses on calculating the cluster centers, the 'prediction' regarding points is implicitly wrapped up in the 'assign' functions. 'sklearn' exposes the functionality more explicitly with '.predict()' methods."
            ]
        },
        {
            "cell_type": "code",
            "execution_count": null,
            "metadata": {
                "collapsed": true,
                "nbgrader": {
                    "grade": false,
                    "locked": true,
                    "solution": false
                },
                "editable": false,
                "deletable": false
            },
            "outputs": [],
            "source": [
                "from sklearn.mixture import GaussianMixture\n",
                "from matplotlib.colors import to_hex, to_rgb\n",
                "\n",
                "# Maximum of 8 Clusters(color constraint)\n",
                "def plot_sk_clust(clusters = 3, clust = GaussianMixture):\n",
                "    def find_hex(p, colors):\n",
                "        p = p.reshape(-1,1)\n",
                "        return to_hex(np.sum(p*colors, axis=0))\n",
                "\n",
                "    #\n",
                "    # Create a figure\n",
                "    fig, (axs) = plt.subplots(2,2, figsize = (6,6))\n",
                "    \n",
                "    # Go through all datasets \n",
                "    for ax, df in zip(axs.flatten(), [mv_df, unif_df, mv2_df, mv3_df]):\n",
                "        \n",
                "        \n",
                "        # Pull out a point data\n",
                "        points = df.iloc[:,:2].values\n",
                "        \n",
                "        # Give a list of colors as RGB\n",
                "        colors = [\"#1b9e77\", \"#d95f02\", \"#7570b3\",\"#e7298a\",\"#66a61e\",\"#e6ab02\",\"#a6761d\",\"#666666\"][:clusters]\n",
                "        colors = [np.array(to_rgb(c)) for c in colors]\n",
                "        colors = np.array(colors)\n",
                "        \n",
                "        \n",
                "        \n",
                "        ###\n",
                "        # SKLEARN \n",
                "        ###\n",
                "        \n",
                "        # Fit the Clusters from points\n",
                "        cl = clust(clusters).fit(points)\n",
                "        \n",
                "        \n",
                "        # Calculate the Color values from clusters\n",
                "        # Note \".predict()\" and \".predict_proba()\"\n",
                "        if clust == GaussianMixture:\n",
                "            probs = cl.predict_proba(points)\n",
                "            plot_colors = [find_hex(p,colors) for p in probs]\n",
                "            \n",
                "        if clust == KMeans:\n",
                "            probs = cl.predict(points)\n",
                "            plot_colors = [colors[p] for p in probs]\n",
                "\n",
                "        ###\n",
                "        # END SKLEARN\n",
                "        ###\n",
                "            \n",
                "        # Plot the points with colors\n",
                "        ax.scatter(df.x, df.y, label = None, c = plot_colors, alpha = .15)\n",
                "    # Add the super title\n",
                "    fig.suptitle(clust.__str__(clust).split(\".\")[-1][:-2] + \"; Clusters: \" + str(clusters))\n",
                "    plt.show()"
            ]
        },
        {
            "cell_type": "markdown",
            "metadata": {
                "nbgrader": {
                    "grade": false,
                    "locked": true,
                    "solution": false
                },
                "editable": false,
                "deletable": false
            },
            "source": [
                "#### Visualizations of clustering with `sklearn`\n",
                "\n",
                "Here's an example of how to visualize clustering using the 'sklearn' module."
            ]
        },
        {
            "cell_type": "code",
            "execution_count": null,
            "metadata": {},
            "outputs": [],
            "source": [
                "plot_sk_clust(clusters = 3, clust = GaussianMixture)\n",
                "plot_sk_clust(clusters = 3, clust = KMeans)"
            ]
        }
    ],
    "metadata": {
        "kernelspec": {
            "display_name": "Python 3.7",
            "language": "python",
            "name": "python3"
        },
        "language_info": {
            "codemirror_mode": {
                "name": "ipython",
                "version": 3
            },
            "file_extension": ".py",
            "mimetype": "text\/x-python",
            "name": "python",
            "nbconvert_exporter": "python",
            "pygments_lexer": "ipython3",
            "version": "3.7.5"
        }
    },
    "nbformat": 4,
    "nbformat_minor": 2
}